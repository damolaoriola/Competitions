{
 "cells": [
  {
   "cell_type": "code",
   "execution_count": 1,
   "metadata": {},
   "outputs": [],
   "source": [
    "import pandas as pd\n",
    "import numpy as np\n",
    "import matplotlib.pyplot as plt\n",
    "import seaborn as sb\n",
    "from sklearn.model_selection import train_test_split\n",
    "from sklearn.ensemble import RandomForestRegressor\n",
    "from sklearn.model_selection import cross_val_score, cross_val_predict\n",
    "from sklearn.metrics import mean_squared_error, r2_score\n",
    "from sklearn.model_selection import GridSearchCV  \n",
    "from sklearn.preprocessing import LabelEncoder\n",
    "from sklearn.model_selection import KFold\n",
    "from math import sqrt                                       \n",
    "import operator                                   \n",
    "%matplotlib inline\n",
    "%config InlineBackend.figure_format = 'retina'\n",
    "plt.rcParams['figure.figsize'] = (20,15)           \n",
    "plt.rcParams['font.size'] = 15\n",
    "\n",
    "train_data = pd.read_csv('training zindi impute pop.csv', encoding = 'utf-8')\n",
    "\n",
    "test_data = pd.read_csv('testing zindi impute pop.csv', encoding = 'utf-8')\n",
    "\n",
    "train_route = pd.read_csv('train_route.csv', encoding = 'utf-8')\n",
    "\n",
    "test_route = pd.read_csv('test_route.csv', encoding = 'utf-8')\n",
    "\n",
    "train_uber = pd.read_csv('train_uber.csv', encoding = 'utf-8')\n",
    "\n",
    "test_uber = pd.read_csv('test_uber.csv', encoding = 'utf-8')\n",
    "\n",
    "uber_features = pd.read_csv('uber_features.csv', encoding = 'utf-8')\n",
    "\n",
    "\n",
    "del train_data['Unnamed: 0']\n",
    "\n",
    "del test_data['Unnamed: 0']\n",
    "\n",
    "del train_route['Unnamed: 0']\n",
    "\n",
    "del test_route['Unnamed: 0']\n",
    "\n"
   ]
  },
  {
   "cell_type": "code",
   "execution_count": null,
   "metadata": {},
   "outputs": [],
   "source": [
    "train_data.columns"
   ]
  },
  {
   "cell_type": "code",
   "execution_count": null,
   "metadata": {},
   "outputs": [],
   "source": [
    "len(train_features)"
   ]
  },
  {
   "cell_type": "code",
   "execution_count": null,
   "metadata": {},
   "outputs": [],
   "source": [
    "train_uber.columns"
   ]
  },
  {
   "cell_type": "code",
   "execution_count": null,
   "metadata": {},
   "outputs": [],
   "source": [
    "uber_features.columns"
   ]
  },
  {
   "cell_type": "code",
   "execution_count": 2,
   "metadata": {},
   "outputs": [],
   "source": [
    "train_uber.rename(columns= {\n",
    "    \"order_no\": \"Order No\"\n",
    "}, inplace=True)"
   ]
  },
  {
   "cell_type": "code",
   "execution_count": 3,
   "metadata": {},
   "outputs": [],
   "source": [
    "test_data.rename(columns= {\n",
    "    \"Order_No\": \"Order No\"\n",
    "}, inplace=True)"
   ]
  },
  {
   "cell_type": "code",
   "execution_count": 4,
   "metadata": {},
   "outputs": [],
   "source": [
    "train_data = train_data.merge(train_uber, how = 'left',\\\n",
    "                    on = ['Order No'])\n",
    "\n",
    "test_data = test_data.merge(test_uber, how = 'left',\\\n",
    "                    on = ['Order No'])\n"
   ]
  },
  {
   "cell_type": "code",
   "execution_count": null,
   "metadata": {},
   "outputs": [],
   "source": [
    "train_data.columns"
   ]
  },
  {
   "cell_type": "markdown",
   "metadata": {},
   "source": [
    "# Is there a pattern to the Speed of Drivers? Let's convert time to seconds for modelling"
   ]
  },
  {
   "cell_type": "code",
   "execution_count": null,
   "metadata": {},
   "outputs": [],
   "source": [
    "len(test_data)"
   ]
  },
  {
   "cell_type": "code",
   "execution_count": null,
   "metadata": {},
   "outputs": [],
   "source": [
    "train_data.isnull().sum(axis = 0)"
   ]
  },
  {
   "cell_type": "code",
   "execution_count": 5,
   "metadata": {},
   "outputs": [],
   "source": [
    "train_data[['mean_travel_timeweekly','mean_travel_timehourly', 'mean_travel_timemonthly', 'mean_travel_timehourly_weekend', 'mean_travel_timehourly_weekday', \\\n",
    "'geometric_mean_travel_timeweekly', 'geometric_mean_travel_timehourly', 'geometric_mean_travel_timemonthly', \\\n",
    "'geometric_mean_travel_timehourly_weekend', 'geometric_mean_travel_timehourly_weekday']] = train_data[['mean_travel_timeweekly','mean_travel_timehourly', 'mean_travel_timemonthly', 'mean_travel_timehourly_weekend', 'mean_travel_timehourly_weekday', \\\n",
    "'geometric_mean_travel_timeweekly', 'geometric_mean_travel_timehourly', 'geometric_mean_travel_timemonthly', \\\n",
    "'geometric_mean_travel_timehourly_weekend', 'geometric_mean_travel_timehourly_weekday']].apply(lambda x: x.fillna(x.median()))"
   ]
  },
  {
   "cell_type": "code",
   "execution_count": 6,
   "metadata": {},
   "outputs": [],
   "source": [
    "test_data[['mean_travel_timeweekly','mean_travel_timehourly', 'mean_travel_timemonthly', 'mean_travel_timehourly_weekend', 'mean_travel_timehourly_weekday', \\\n",
    "'geometric_mean_travel_timeweekly', 'geometric_mean_travel_timehourly', 'geometric_mean_travel_timemonthly', \\\n",
    "'geometric_mean_travel_timehourly_weekend', 'geometric_mean_travel_timehourly_weekday']] = test_data[['mean_travel_timeweekly','mean_travel_timehourly', 'mean_travel_timemonthly', 'mean_travel_timehourly_weekend', 'mean_travel_timehourly_weekday', \\\n",
    "'geometric_mean_travel_timeweekly', 'geometric_mean_travel_timehourly', 'geometric_mean_travel_timemonthly', \\\n",
    "'geometric_mean_travel_timehourly_weekend', 'geometric_mean_travel_timehourly_weekday']].apply(lambda x: x.fillna(x.median()))"
   ]
  },
  {
   "cell_type": "code",
   "execution_count": 7,
   "metadata": {},
   "outputs": [],
   "source": [
    "train_data = train_data.merge(train_route, how = 'left',\\\n",
    "                    on = ['Order No'])\n",
    "\n",
    "test_data = test_data.merge(test_route, how = 'left',\\\n",
    "                    on = ['Order No'])\n"
   ]
  },
  {
   "cell_type": "code",
   "execution_count": null,
   "metadata": {},
   "outputs": [],
   "source": [
    "r2_score(train_data['Time from Pickup to Arrival'], train_data['time(s)'])"
   ]
  },
  {
   "cell_type": "code",
   "execution_count": 8,
   "metadata": {},
   "outputs": [],
   "source": [
    "train_data['time(s)'] = train_data['time(s)'].fillna(train_data['time(s)'].median())\n",
    "\n",
    "test_data['time(s)'] = test_data['time(s)'].fillna(test_data['time(s)'].median())"
   ]
  },
  {
   "cell_type": "code",
   "execution_count": null,
   "metadata": {},
   "outputs": [],
   "source": [
    "print(mean_squared_error(train_data['Distance (KM)'], train_data['distance dataset']))\n",
    "\n",
    "\n",
    "\n",
    "print(sqrt(mean_squared_error(train_data['Time from Pickup to Arrival'], train_data['time(s)'])))"
   ]
  },
  {
   "cell_type": "code",
   "execution_count": 9,
   "metadata": {},
   "outputs": [],
   "source": [
    "train_route['time(s)'] = train_route['time(s)'] \n",
    "\n",
    "test_route['time(s)'] = test_route['time(s)']"
   ]
  },
  {
   "cell_type": "code",
   "execution_count": 10,
   "metadata": {},
   "outputs": [],
   "source": [
    "#Exploring the speed of th#train_data.groupby('Rider Id')['Time from Pickup to Arrival(hrs)']\n",
    "\n",
    "# pd.melt(train_data, id_vars=['Rider Id'], value_vars='Speed(km/hr)',\\\n",
    "#         value_name = 'Speed(km/hr)')e datapoints\n",
    "\n",
    "train_data['Speed(km/hr)'] = train_data['Distance (KM)'] / train_data['Time from Pickup to Arrival']\n",
    "\n",
    "#train_data['est speed'] = train_data['Distance (KM)'] / train_data['time(s)']\n"
   ]
  },
  {
   "cell_type": "code",
   "execution_count": null,
   "metadata": {},
   "outputs": [],
   "source": [
    "train_data['Speed(km/hr)'].hist()"
   ]
  },
  {
   "cell_type": "markdown",
   "metadata": {},
   "source": [
    "# Analyse extremely slow & fast trips"
   ]
  },
  {
   "cell_type": "code",
   "execution_count": null,
   "metadata": {},
   "outputs": [],
   "source": [
    "train_data_slow = train_data[train_data['Speed(km/hr)'] > 7000]"
   ]
  },
  {
   "cell_type": "code",
   "execution_count": null,
   "metadata": {},
   "outputs": [],
   "source": [
    "train_data_slow.columns"
   ]
  },
  {
   "cell_type": "code",
   "execution_count": null,
   "metadata": {},
   "outputs": [],
   "source": [
    "train_data_slow = train_data_slow[['Distance (KM)', 'Pickup - Day of Month', 'Pickup - Weekday (Mo = 1)', 'pick time overall hour','Time from Pickup to Arrival',\n",
    "               'Speed(km/hr)']]"
   ]
  },
  {
   "cell_type": "code",
   "execution_count": null,
   "metadata": {},
   "outputs": [],
   "source": [
    "train_data_slow['Time from Pickup to Arrival'] = train_data_slow['Time from Pickup to Arrival']  * 3600"
   ]
  },
  {
   "cell_type": "code",
   "execution_count": null,
   "metadata": {},
   "outputs": [],
   "source": [
    "train_data_slow"
   ]
  },
  {
   "cell_type": "code",
   "execution_count": null,
   "metadata": {},
   "outputs": [],
   "source": [
    "train_data = train_data[train_data['Speed(km/hr)'] <= 7000]"
   ]
  },
  {
   "cell_type": "code",
   "execution_count": 11,
   "metadata": {},
   "outputs": [],
   "source": [
    "rider_time= train_data.groupby('Rider Id')['Time from Pickup to Arrival'].median()\n",
    "\n",
    "# pd.melt(train_data, id_vars=['Rider Id'], value_vars='Speed(km/hr)',\\\n",
    "#         value_name = 'Speed(km/hr)')"
   ]
  },
  {
   "cell_type": "code",
   "execution_count": 12,
   "metadata": {},
   "outputs": [],
   "source": [
    "rider_speed = train_data.groupby('Rider Id')['Speed(km/hr)'].median()"
   ]
  },
  {
   "cell_type": "code",
   "execution_count": 13,
   "metadata": {},
   "outputs": [],
   "source": [
    "def med_speed(row):\n",
    "    \n",
    "    try:\n",
    "    \n",
    "        row['avg_speed_rider'] = rider_speed.loc[row['Rider Id']]\n",
    "    \n",
    "    except: \n",
    "        \n",
    "        row['avg_speed_rider'] = rider_speed.median()\n",
    "    \n",
    "    return row\n"
   ]
  },
  {
   "cell_type": "code",
   "execution_count": 14,
   "metadata": {},
   "outputs": [],
   "source": [
    "def med_time(row):\n",
    "    \n",
    "    try:\n",
    "    \n",
    "        row['avg_time_rider'] = rider_time.loc[row['Rider Id']]\n",
    "    \n",
    "    except: \n",
    "        \n",
    "        row['avg_time_rider'] = rider_time.median()\n",
    "    \n",
    "    return row"
   ]
  },
  {
   "cell_type": "code",
   "execution_count": 15,
   "metadata": {},
   "outputs": [],
   "source": [
    "train_data = train_data.apply(med_speed, axis = 1)\n",
    "\n",
    "test_data = test_data.apply(med_speed, axis = 1)\n",
    "\n",
    "\n",
    "\n",
    "train_data = train_data.apply(med_time, axis = 1)\n",
    "\n",
    "test_data = test_data.apply(med_time, axis = 1)"
   ]
  },
  {
   "cell_type": "code",
   "execution_count": null,
   "metadata": {},
   "outputs": [],
   "source": [
    "test_data['avg_time_rider']"
   ]
  },
  {
   "cell_type": "code",
   "execution_count": 16,
   "metadata": {},
   "outputs": [],
   "source": [
    "#function for week of month\n",
    "\n",
    "def augment_dist_brackets(df):\n",
    "    \n",
    "    if df in list(range(1, 4)):\n",
    "        \n",
    "        return 'dist 1-3'\n",
    "    \n",
    "    elif df in list(range(4, 8)):\n",
    "        \n",
    "        return 'dist 4-7'\n",
    "    \n",
    "    elif df in list(range(8, 13)):\n",
    "        \n",
    "        return 'dist 8-12'\n",
    "    \n",
    "    elif df in list(range(13, 17)):\n",
    "        \n",
    "        return 'dist 13-16'\n",
    "    \n",
    "    elif df in list(range(17, 22)):\n",
    "        \n",
    "        return 'dist 17-21'\n",
    "    \n",
    "    elif df in list(range(22, 26)):\n",
    "        \n",
    "        return 'dist 21-25'\n",
    "    \n",
    "    else:\n",
    "        \n",
    "        return 'dist > 25'"
   ]
  },
  {
   "cell_type": "code",
   "execution_count": null,
   "metadata": {},
   "outputs": [],
   "source": []
  },
  {
   "cell_type": "code",
   "execution_count": 17,
   "metadata": {},
   "outputs": [],
   "source": [
    "train_data['dist bracket'] = train_data['Distance (KM)'].apply(augment_dist_brackets)\n",
    "\n",
    "test_data['dist bracket'] = test_data['Distance (KM)'].apply(augment_dist_brackets)\n",
    "\n"
   ]
  },
  {
   "cell_type": "code",
   "execution_count": null,
   "metadata": {},
   "outputs": [],
   "source": [
    "train_data['dist bracket']"
   ]
  },
  {
   "cell_type": "code",
   "execution_count": 18,
   "metadata": {},
   "outputs": [],
   "source": [
    "dist_time_train= train_data.groupby('dist bracket')['Time from Pickup to Arrival'].median()\n"
   ]
  },
  {
   "cell_type": "code",
   "execution_count": 19,
   "metadata": {},
   "outputs": [],
   "source": [
    "def dist_time(row):\n",
    "    \n",
    "    try:\n",
    "    \n",
    "        row['avg_time_dist'] = dist_time_train.loc[row['dist bracket']]\n",
    "    \n",
    "    except: \n",
    "        \n",
    "        row['avg_time_dist'] = dist_time_train.median()\n",
    "    \n",
    "    return row"
   ]
  },
  {
   "cell_type": "code",
   "execution_count": 20,
   "metadata": {},
   "outputs": [],
   "source": [
    "train_data = train_data.apply(dist_time, axis = 1)\n",
    "\n",
    "test_data = test_data.apply(dist_time, axis = 1)\n",
    "\n"
   ]
  },
  {
   "cell_type": "code",
   "execution_count": null,
   "metadata": {},
   "outputs": [],
   "source": [
    "test_data.describe()"
   ]
  },
  {
   "cell_type": "code",
   "execution_count": 21,
   "metadata": {},
   "outputs": [],
   "source": [
    "train_data.describe()\n",
    "\n",
    "train_data = train_data.loc[train_data['arrival pickup_confirmation delta'] != 0]"
   ]
  },
  {
   "cell_type": "code",
   "execution_count": 22,
   "metadata": {},
   "outputs": [],
   "source": [
    "train_data.describe()\n",
    "\n",
    "train_data = train_data.loc[train_data['confirmation_placement_delta'] != 0]"
   ]
  },
  {
   "cell_type": "code",
   "execution_count": 23,
   "metadata": {},
   "outputs": [],
   "source": [
    "#converting to objects\n",
    "\n",
    "train_data['pick time overall hour'] = train_data['pick time overall hour'].astype(str)\n",
    "\n",
    "test_data['pick time overall hour'] = test_data['pick time overall hour'].astype(str)\n",
    "\n",
    "# train_data['Pickup - Day of Month'] = train_data['Pickup - Day of Month'].astype(str)\n",
    "\n",
    "# test_data['Pickup - Day of Month'] = test_data['Pickup - Day of Month'].astype(str)\n",
    "\n",
    "# train_data['Pickup - Weekday (Mo = 1)'] = train_data['Pickup - Weekday (Mo = 1)'].astype(str)\n",
    "\n",
    "# test_data['Pickup - Weekday (Mo = 1)'] = test_data['Pickup - Weekday (Mo = 1)'].astype(str)\n",
    "\n",
    "# train_data['Platform Type'] = train_data['Platform Type'].astype(str)\n",
    "\n",
    "# test_data['Platform Type'] = test_data['Platform Type'].astype(str)\n",
    "\n"
   ]
  },
  {
   "cell_type": "code",
   "execution_count": null,
   "metadata": {},
   "outputs": [],
   "source": [
    "train_data.columns"
   ]
  },
  {
   "cell_type": "code",
   "execution_count": 24,
   "metadata": {},
   "outputs": [],
   "source": [
    "hour_speed = train_data.groupby('pick time overall hour')['Speed(km/hr)'].median()"
   ]
  },
  {
   "cell_type": "code",
   "execution_count": 25,
   "metadata": {},
   "outputs": [],
   "source": [
    "hour_time = train_data.groupby('pick time overall hour')['Time from Pickup to Arrival'].median()"
   ]
  },
  {
   "cell_type": "code",
   "execution_count": 26,
   "metadata": {},
   "outputs": [],
   "source": [
    "def hour_med_speed(row):\n",
    "    \n",
    "    try:\n",
    "    \n",
    "        row['avg_speed_hour'] = hour_speed.loc[row['pick time overall hour']]\n",
    "    \n",
    "    except: \n",
    "        \n",
    "        row['avg_speed_hour'] = hour_speed.median()\n",
    "    \n",
    "    return row\n"
   ]
  },
  {
   "cell_type": "code",
   "execution_count": 27,
   "metadata": {},
   "outputs": [],
   "source": [
    "def hour_med_time(row):\n",
    "    \n",
    "    try:\n",
    "    \n",
    "        row['avg_time_hour'] = hour_time.loc[row['pick time overall hour']]\n",
    "    \n",
    "    except: \n",
    "        \n",
    "        row['avg_time_hour'] = hour_time.median()\n",
    "    \n",
    "    return row\n"
   ]
  },
  {
   "cell_type": "code",
   "execution_count": 28,
   "metadata": {},
   "outputs": [],
   "source": [
    "train_data = train_data.apply(hour_med_speed, axis = 1)\n",
    "\n",
    "test_data = test_data.apply(hour_med_speed, axis = 1)\n",
    "\n",
    "\n",
    "\n",
    "train_data = train_data.apply(hour_med_time, axis = 1)\n",
    "\n",
    "test_data = test_data.apply(hour_med_time, axis = 1)"
   ]
  },
  {
   "cell_type": "code",
   "execution_count": null,
   "metadata": {},
   "outputs": [],
   "source": []
  },
  {
   "cell_type": "code",
   "execution_count": null,
   "metadata": {},
   "outputs": [],
   "source": []
  },
  {
   "cell_type": "code",
   "execution_count": 29,
   "metadata": {},
   "outputs": [],
   "source": [
    "day_speed = train_data.groupby('Pickup - Day of Month')['Speed(km/hr)'].median()"
   ]
  },
  {
   "cell_type": "code",
   "execution_count": 30,
   "metadata": {},
   "outputs": [],
   "source": [
    "day_time = train_data.groupby('Pickup - Day of Month')['Time from Pickup to Arrival'].median()"
   ]
  },
  {
   "cell_type": "code",
   "execution_count": 31,
   "metadata": {},
   "outputs": [],
   "source": [
    "def day_med_speed(row):\n",
    "    \n",
    "    try:\n",
    "    \n",
    "        row['avg_speed_day'] = day_speed.loc[row['Pickup - Day of Month']]\n",
    "    \n",
    "    except: \n",
    "        \n",
    "        row['avg_speed_day'] = day_speed.median()\n",
    "    \n",
    "    return row\n"
   ]
  },
  {
   "cell_type": "code",
   "execution_count": 32,
   "metadata": {},
   "outputs": [],
   "source": [
    "def day_med_time(row):\n",
    "    \n",
    "    try:\n",
    "    \n",
    "        row['avg_time_day'] = day_time.loc[row['Pickup - Day of Month']]\n",
    "    \n",
    "    except: \n",
    "        \n",
    "        row['avg_time_day'] = day_time.median()\n",
    "    \n",
    "    return row\n"
   ]
  },
  {
   "cell_type": "code",
   "execution_count": 33,
   "metadata": {},
   "outputs": [],
   "source": [
    "train_data = train_data.apply(day_med_speed, axis = 1)\n",
    "\n",
    "test_data = test_data.apply(day_med_speed, axis = 1)\n",
    "\n",
    "\n",
    "\n",
    "train_data = train_data.apply(day_med_time, axis = 1)\n",
    "\n",
    "test_data = test_data.apply(day_med_time, axis = 1)"
   ]
  },
  {
   "cell_type": "code",
   "execution_count": null,
   "metadata": {},
   "outputs": [],
   "source": []
  },
  {
   "cell_type": "code",
   "execution_count": null,
   "metadata": {},
   "outputs": [],
   "source": []
  },
  {
   "cell_type": "code",
   "execution_count": null,
   "metadata": {},
   "outputs": [],
   "source": []
  },
  {
   "cell_type": "code",
   "execution_count": 34,
   "metadata": {},
   "outputs": [],
   "source": [
    "week_speed = train_data.groupby('Pickup - Weekday (Mo = 1)')['Speed(km/hr)'].median()"
   ]
  },
  {
   "cell_type": "code",
   "execution_count": 35,
   "metadata": {},
   "outputs": [],
   "source": [
    "week_time = train_data.groupby('Pickup - Weekday (Mo = 1)')['Time from Pickup to Arrival'].median()"
   ]
  },
  {
   "cell_type": "code",
   "execution_count": 36,
   "metadata": {},
   "outputs": [],
   "source": [
    "def week_med_speed(row):\n",
    "    \n",
    "    try:\n",
    "    \n",
    "        row['avg_speed_week'] = week_speed.loc[row['Pickup - Weekday (Mo = 1)']]\n",
    "    \n",
    "    except: \n",
    "        \n",
    "        row['avg_speed_week'] = week_speed.median()\n",
    "    \n",
    "    return row"
   ]
  },
  {
   "cell_type": "code",
   "execution_count": 37,
   "metadata": {},
   "outputs": [],
   "source": [
    "def week_med_time(row):\n",
    "    \n",
    "    try:\n",
    "    \n",
    "        row['avg_time_week'] = week_time.loc[row['Pickup - Weekday (Mo = 1)']]\n",
    "    \n",
    "    except: \n",
    "        \n",
    "        row['avg_time_week'] = week_time.median()\n",
    "    \n",
    "    return row\n"
   ]
  },
  {
   "cell_type": "code",
   "execution_count": 38,
   "metadata": {},
   "outputs": [],
   "source": [
    "train_data = train_data.apply(week_med_speed, axis = 1)\n",
    "\n",
    "test_data = test_data.apply(week_med_speed, axis = 1)\n",
    "\n",
    "\n",
    "\n",
    "train_data = train_data.apply(week_med_time, axis = 1)\n",
    "\n",
    "test_data = test_data.apply(week_med_time, axis =1)"
   ]
  },
  {
   "cell_type": "code",
   "execution_count": null,
   "metadata": {},
   "outputs": [],
   "source": []
  },
  {
   "cell_type": "code",
   "execution_count": null,
   "metadata": {},
   "outputs": [],
   "source": []
  },
  {
   "cell_type": "code",
   "execution_count": null,
   "metadata": {},
   "outputs": [],
   "source": [
    "train_data.columns"
   ]
  },
  {
   "cell_type": "code",
   "execution_count": null,
   "metadata": {},
   "outputs": [],
   "source": []
  },
  {
   "cell_type": "code",
   "execution_count": null,
   "metadata": {},
   "outputs": [],
   "source": []
  },
  {
   "cell_type": "code",
   "execution_count": null,
   "metadata": {},
   "outputs": [],
   "source": [
    "train_data['distance dataset']"
   ]
  },
  {
   "cell_type": "code",
   "execution_count": null,
   "metadata": {},
   "outputs": [],
   "source": [
    "#creating copy of train set for analysis and manipulation\n",
    "\n",
    "\n",
    "#function to create full date that account for overall arrival and pickup date\n",
    "def create_dates(x, y, z):\n",
    "    \n",
    "    return '2019' + '-' + '08' + '-' + str(int(x)) + '-' + '0' + str(int(y)) + ' ' + str(z)"
   ]
  },
  {
   "cell_type": "code",
   "execution_count": null,
   "metadata": {},
   "outputs": [],
   "source": [
    "# applying function that created the combined dates and times from individual columns\n",
    "\n",
    "train_data['pickup time overall'] = np.vectorize(create_dates)(train_data['Pickup - Day of Month'],\\\n",
    "                                                   train_data['Pickup - Weekday (Mo = 1)'],\n",
    "                                                   train_data['Pickup - Time'])\n"
   ]
  },
  {
   "cell_type": "code",
   "execution_count": null,
   "metadata": {},
   "outputs": [],
   "source": [
    "# applying function that created the combined dates and times from individual columns\n",
    "\n",
    "test_data['pickup time overall'] = np.vectorize(create_dates)(test_data['Pickup - Day of Month'],\\\n",
    "                                                   test_data['Pickup - Weekday (Mo = 1)'],\n",
    "                                                   test_data['Pickup - Time'])\n"
   ]
  },
  {
   "cell_type": "code",
   "execution_count": null,
   "metadata": {},
   "outputs": [],
   "source": [
    "# #converting to date format for date arithmetic \n",
    "\n",
    "train_data['pickup time overall'] = pd.to_datetime(train_data['pickup time overall'])\n",
    "\n",
    "test_data['pickup time overall'] = pd.to_datetime(test_data['pickup time overall'])\n",
    "\n"
   ]
  },
  {
   "cell_type": "code",
   "execution_count": null,
   "metadata": {},
   "outputs": [],
   "source": [
    "train_data['minute']= train_data['pickup time overall'].dt.minute\n",
    "\n",
    "test_data['minute']= test_data['pickup time overall'].dt.minute"
   ]
  },
  {
   "cell_type": "code",
   "execution_count": 39,
   "metadata": {},
   "outputs": [],
   "source": [
    "train_data['ratings / order'] = train_data['No_of_Ratings']  / train_data['No_Of_Orders']\n",
    "\n",
    "test_data['ratings / order'] = test_data['No_of_Ratings']  / test_data['No_Of_Orders']"
   ]
  },
  {
   "cell_type": "code",
   "execution_count": null,
   "metadata": {},
   "outputs": [],
   "source": [
    "train_data.columns"
   ]
  },
  {
   "cell_type": "code",
   "execution_count": null,
   "metadata": {},
   "outputs": [],
   "source": [
    "train_data[train_data['Average_Rating'] == 0]"
   ]
  },
  {
   "cell_type": "code",
   "execution_count": 40,
   "metadata": {},
   "outputs": [],
   "source": [
    "train_uber_sub = pd.read_csv('uber_sub_train.csv', encoding = 'utf-8')\n",
    "\n",
    "test_uber_sub = pd.read_csv('uber_sub_test.csv', encoding = 'utf-8')"
   ]
  },
  {
   "cell_type": "code",
   "execution_count": 41,
   "metadata": {},
   "outputs": [],
   "source": [
    "train_uber_sub = train_uber_sub[['Order No', 'SubLocation Name', 'SubLocation Name.1']]\n",
    "\n",
    "test_uber_sub = test_uber_sub[['Order No', 'SubLocation Name', 'SubLocation Name.1']]"
   ]
  },
  {
   "cell_type": "code",
   "execution_count": 42,
   "metadata": {},
   "outputs": [],
   "source": [
    "train_data = train_data.merge(train_uber_sub, how = 'left',\\\n",
    "                    on = ['Order No'])\n",
    "\n",
    "test_data = test_data.merge(test_uber_sub, how = 'left',\\\n",
    "                    on = ['Order No'])"
   ]
  },
  {
   "cell_type": "code",
   "execution_count": null,
   "metadata": {},
   "outputs": [],
   "source": [
    "train_data[['Distance (KM)', 'SubLocation Name', 'SubLocation Name.1']]"
   ]
  },
  {
   "cell_type": "code",
   "execution_count": 43,
   "metadata": {},
   "outputs": [],
   "source": [
    "train_locs_list = set(list(zip(train_data['SubLocation Name'], train_data['SubLocation Name.1'])))"
   ]
  },
  {
   "cell_type": "code",
   "execution_count": 44,
   "metadata": {},
   "outputs": [],
   "source": [
    "test_locs_list = set(list(zip(test_data['SubLocation Name'], test_data['SubLocation Name.1'])))"
   ]
  },
  {
   "cell_type": "code",
   "execution_count": null,
   "metadata": {},
   "outputs": [],
   "source": [
    "len(test_locs_list)"
   ]
  },
  {
   "cell_type": "code",
   "execution_count": null,
   "metadata": {},
   "outputs": [],
   "source": [
    "len(set(train_locs_list).intersection(test_locs_list))"
   ]
  },
  {
   "cell_type": "code",
   "execution_count": null,
   "metadata": {},
   "outputs": [],
   "source": [
    "locs_group_time = pd.DataFrame(train_data.groupby(('SubLocation Name', 'SubLocation Name.1'))['Time from Pickup to Arrival'].median())"
   ]
  },
  {
   "cell_type": "code",
   "execution_count": null,
   "metadata": {},
   "outputs": [],
   "source": [
    "locs_group_speed = pd.DataFrame(train_data.groupby(('SubLocation Name', 'SubLocation Name.1'))['Speed(km/hr)'].median())"
   ]
  },
  {
   "cell_type": "code",
   "execution_count": null,
   "metadata": {},
   "outputs": [],
   "source": [
    "locs_group_speed.columns"
   ]
  },
  {
   "cell_type": "code",
   "execution_count": null,
   "metadata": {},
   "outputs": [],
   "source": [
    "pd.DataFrame(train_data.groupby(('SubLocation Name', 'SubLocation Name.1'))['Time from Pickup to Arrival'].value_counts()).max()"
   ]
  },
  {
   "cell_type": "code",
   "execution_count": null,
   "metadata": {},
   "outputs": [],
   "source": []
  },
  {
   "cell_type": "code",
   "execution_count": null,
   "metadata": {},
   "outputs": [],
   "source": [
    "locs_group_speed"
   ]
  },
  {
   "cell_type": "code",
   "execution_count": null,
   "metadata": {},
   "outputs": [],
   "source": [
    "locs_group_speed = locs_group_speed.reset_index()"
   ]
  },
  {
   "cell_type": "code",
   "execution_count": null,
   "metadata": {},
   "outputs": [],
   "source": [
    "train_data['avg_time_loc_group']"
   ]
  },
  {
   "cell_type": "code",
   "execution_count": 45,
   "metadata": {},
   "outputs": [],
   "source": [
    "subloc_time = train_data.groupby('SubLocation Name')['Time from Pickup to Arrival'].median()"
   ]
  },
  {
   "cell_type": "code",
   "execution_count": 46,
   "metadata": {},
   "outputs": [],
   "source": [
    "subloc_speed = train_data.groupby('SubLocation Name')['Speed(km/hr)'].median()"
   ]
  },
  {
   "cell_type": "code",
   "execution_count": null,
   "metadata": {},
   "outputs": [],
   "source": [
    "subloc_time"
   ]
  },
  {
   "cell_type": "code",
   "execution_count": null,
   "metadata": {},
   "outputs": [],
   "source": [
    "train_data.columns"
   ]
  },
  {
   "cell_type": "code",
   "execution_count": 47,
   "metadata": {},
   "outputs": [],
   "source": [
    "def subloc_med_speed(row):\n",
    "    \n",
    "    try:\n",
    "    \n",
    "        row['avg_speed_subloc'] = subloc_speed.loc[row['SubLocation Name']]\n",
    "    \n",
    "    except: \n",
    "        \n",
    "        row['avg_speed_subloc'] = subloc_speed.median()\n",
    "    \n",
    "    return row"
   ]
  },
  {
   "cell_type": "code",
   "execution_count": 48,
   "metadata": {},
   "outputs": [],
   "source": [
    "def subloc_med_time(row):\n",
    "    \n",
    "    try:\n",
    "    \n",
    "        row['avg_time_subloc'] = subloc_time.loc[row['SubLocation Name.1']]\n",
    "    \n",
    "    except: \n",
    "        \n",
    "        row['avg_time_subloc'] = subloc_time.median()\n",
    "    \n",
    "    return row"
   ]
  },
  {
   "cell_type": "code",
   "execution_count": 49,
   "metadata": {},
   "outputs": [],
   "source": [
    "train_data = train_data.apply(subloc_med_speed, axis = 1)\n",
    "\n",
    "test_data = test_data.apply(subloc_med_speed, axis = 1)\n",
    "\n",
    "\n",
    "\n",
    "train_data = train_data.apply(subloc_med_time, axis = 1)\n",
    "\n",
    "test_data = test_data.apply(subloc_med_time, axis =1)"
   ]
  },
  {
   "cell_type": "code",
   "execution_count": null,
   "metadata": {},
   "outputs": [],
   "source": []
  },
  {
   "cell_type": "code",
   "execution_count": 50,
   "metadata": {},
   "outputs": [],
   "source": [
    "subloc1_time = train_data.groupby('SubLocation Name.1')['Time from Pickup to Arrival'].median()"
   ]
  },
  {
   "cell_type": "code",
   "execution_count": 51,
   "metadata": {},
   "outputs": [],
   "source": [
    "subloc1_speed = train_data.groupby('SubLocation Name.1')['Speed(km/hr)'].median()"
   ]
  },
  {
   "cell_type": "code",
   "execution_count": 52,
   "metadata": {},
   "outputs": [],
   "source": [
    "def subloc1_med_speed(row):\n",
    "    \n",
    "    try:\n",
    "    \n",
    "        row['avg_speed_subloc1'] = subloc1_speed.loc[row['SubLocation Name.1']]\n",
    "    \n",
    "    except: \n",
    "        \n",
    "        row['avg_speed_subloc1'] = subloc1_speed.median()\n",
    "    \n",
    "    return row"
   ]
  },
  {
   "cell_type": "code",
   "execution_count": 53,
   "metadata": {},
   "outputs": [],
   "source": [
    "def subloc1_med_time(row):\n",
    "    \n",
    "    try:\n",
    "    \n",
    "        row['avg_time_subloc1'] = subloc_time.loc[row['SubLocation Name.1']]\n",
    "    \n",
    "    except: \n",
    "        \n",
    "        row['avg_time_subloc1'] = subloc_time.median()\n",
    "    \n",
    "    return row"
   ]
  },
  {
   "cell_type": "code",
   "execution_count": 54,
   "metadata": {},
   "outputs": [],
   "source": [
    "train_data = train_data.apply(subloc1_med_speed, axis = 1)\n",
    "\n",
    "test_data = test_data.apply(subloc1_med_speed, axis = 1)\n",
    "\n",
    "\n",
    "\n",
    "train_data = train_data.apply(subloc1_med_time, axis = 1)\n",
    "\n",
    "test_data = test_data.apply(subloc1_med_time, axis =1)"
   ]
  },
  {
   "cell_type": "code",
   "execution_count": null,
   "metadata": {},
   "outputs": [],
   "source": [
    "train_data.columns"
   ]
  },
  {
   "cell_type": "code",
   "execution_count": null,
   "metadata": {},
   "outputs": [],
   "source": [
    "train_data['Average_Rating'].unique()"
   ]
  },
  {
   "cell_type": "code",
   "execution_count": null,
   "metadata": {},
   "outputs": [],
   "source": []
  },
  {
   "cell_type": "code",
   "execution_count": null,
   "metadata": {},
   "outputs": [],
   "source": [
    "train_data.columns"
   ]
  },
  {
   "cell_type": "code",
   "execution_count": null,
   "metadata": {},
   "outputs": [],
   "source": [
    "train_features.columns"
   ]
  },
  {
   "cell_type": "code",
   "execution_count": 55,
   "metadata": {},
   "outputs": [],
   "source": [
    "rider_record = (set(train_data['Rider Id']))"
   ]
  },
  {
   "cell_type": "code",
   "execution_count": null,
   "metadata": {},
   "outputs": [],
   "source": [
    "rider_record"
   ]
  },
  {
   "cell_type": "code",
   "execution_count": 56,
   "metadata": {},
   "outputs": [],
   "source": [
    "rider_number = list(range(0, 924))"
   ]
  },
  {
   "cell_type": "code",
   "execution_count": 57,
   "metadata": {},
   "outputs": [],
   "source": [
    "rider_dict = dict(zip(rider_record, rider_number))"
   ]
  },
  {
   "cell_type": "code",
   "execution_count": 58,
   "metadata": {},
   "outputs": [],
   "source": [
    "rider_dict['unk'] = len(rider_dict) + 1"
   ]
  },
  {
   "cell_type": "code",
   "execution_count": 59,
   "metadata": {},
   "outputs": [
    {
     "data": {
      "text/plain": [
       "507"
      ]
     },
     "execution_count": 59,
     "metadata": {},
     "output_type": "execute_result"
    }
   ],
   "source": [
    "rider_dict.get(train_data['Rider Id'].iloc[0], rider_dict['unk'])"
   ]
  },
  {
   "cell_type": "code",
   "execution_count": 60,
   "metadata": {},
   "outputs": [],
   "source": [
    "train_data['Rider Id'] = train_data['Rider Id'].apply(lambda x : rider_dict.get(x, rider_dict['unk']))"
   ]
  },
  {
   "cell_type": "code",
   "execution_count": 61,
   "metadata": {},
   "outputs": [],
   "source": [
    "test_data['Rider Id'] = test_data['Rider Id'].apply(lambda x : rider_dict.get(x, rider_dict['unk']))"
   ]
  },
  {
   "cell_type": "code",
   "execution_count": null,
   "metadata": {},
   "outputs": [],
   "source": [
    "rider_dict"
   ]
  },
  {
   "cell_type": "code",
   "execution_count": null,
   "metadata": {},
   "outputs": [],
   "source": []
  },
  {
   "cell_type": "code",
   "execution_count": 62,
   "metadata": {},
   "outputs": [],
   "source": [
    "subloc_number = list(range(0, len(set(train_data['SubLocation Name']))))"
   ]
  },
  {
   "cell_type": "code",
   "execution_count": null,
   "metadata": {},
   "outputs": [],
   "source": [
    "len(subloc_number)"
   ]
  },
  {
   "cell_type": "code",
   "execution_count": 63,
   "metadata": {},
   "outputs": [],
   "source": [
    "subloc_record = (set(train_data['SubLocation Name']))"
   ]
  },
  {
   "cell_type": "code",
   "execution_count": 64,
   "metadata": {},
   "outputs": [],
   "source": [
    "subloc_dict = dict(zip(subloc_record, subloc_number))"
   ]
  },
  {
   "cell_type": "code",
   "execution_count": 65,
   "metadata": {},
   "outputs": [],
   "source": [
    "subloc_dict['unk'] = len(subloc_dict) + 1"
   ]
  },
  {
   "cell_type": "code",
   "execution_count": 66,
   "metadata": {},
   "outputs": [],
   "source": [
    "train_data['SubLocation Name'] = train_data['SubLocation Name'].apply(lambda x : subloc_dict.get(x, subloc_dict['unk']))"
   ]
  },
  {
   "cell_type": "code",
   "execution_count": 67,
   "metadata": {},
   "outputs": [],
   "source": [
    "test_data['SubLocation Name'] = test_data['SubLocation Name'].apply(lambda x : subloc_dict.get(x, subloc_dict['unk']))"
   ]
  },
  {
   "cell_type": "code",
   "execution_count": null,
   "metadata": {},
   "outputs": [],
   "source": []
  },
  {
   "cell_type": "code",
   "execution_count": 68,
   "metadata": {},
   "outputs": [],
   "source": [
    "subloc_number_2 = list(range(0, len(set(train_data['SubLocation Name.1']))))"
   ]
  },
  {
   "cell_type": "code",
   "execution_count": 69,
   "metadata": {},
   "outputs": [],
   "source": [
    "subloc_record_2 = (set(train_data['SubLocation Name.1']))"
   ]
  },
  {
   "cell_type": "code",
   "execution_count": 70,
   "metadata": {},
   "outputs": [],
   "source": [
    "subloc_dict_2 = dict(zip(subloc_record_2, subloc_number_2))"
   ]
  },
  {
   "cell_type": "code",
   "execution_count": 71,
   "metadata": {},
   "outputs": [],
   "source": [
    "subloc_dict_2['unk'] = len(subloc_dict_2) + 1"
   ]
  },
  {
   "cell_type": "code",
   "execution_count": 72,
   "metadata": {},
   "outputs": [],
   "source": [
    "train_data['SubLocation Name.1'] = train_data['SubLocation Name.1'].apply(lambda x : subloc_dict_2.get(x, subloc_dict_2['unk']))"
   ]
  },
  {
   "cell_type": "code",
   "execution_count": 73,
   "metadata": {},
   "outputs": [],
   "source": [
    "test_data['SubLocation Name.1'] = test_data['SubLocation Name.1'].apply(lambda x : subloc_dict_2.get(x, subloc_dict_2['unk']))"
   ]
  },
  {
   "cell_type": "code",
   "execution_count": null,
   "metadata": {},
   "outputs": [],
   "source": []
  },
  {
   "cell_type": "code",
   "execution_count": null,
   "metadata": {},
   "outputs": [],
   "source": [
    "train_data.columns"
   ]
  },
  {
   "cell_type": "code",
   "execution_count": null,
   "metadata": {},
   "outputs": [],
   "source": [
    "train_data[['mean_travel_timeweekly_s', 'mean_travel_timehourly_s',\n",
    "       'mean_travel_timemonthly_s', 'mean_travel_timehourly_weekend_s',\n",
    "       'mean_travel_timehourly_weekday_s', 'time(s)_s']] = train_data[['mean_travel_timeweekly', 'mean_travel_timehourly',\n",
    "       'mean_travel_timemonthly', 'mean_travel_timehourly_weekend',\n",
    "       'mean_travel_timehourly_weekday', 'time(s)']].apply(calc_speed)"
   ]
  },
  {
   "cell_type": "code",
   "execution_count": null,
   "metadata": {
    "scrolled": true
   },
   "outputs": [],
   "source": [
    "test_data[['mean_travel_timeweekly_s', 'mean_travel_timehourly_s',\n",
    "       'mean_travel_timemonthly_s', 'mean_travel_timehourly_weekend_s',\n",
    "       'mean_travel_timehourly_weekday_s', 'time(s)_s']] = test_data[['mean_travel_timeweekly', 'mean_travel_timehourly',\n",
    "       'mean_travel_timemonthly', 'mean_travel_timehourly_weekend',\n",
    "       'mean_travel_timehourly_weekday', 'time(s)']].apply(calc_speed)"
   ]
  },
  {
   "cell_type": "code",
   "execution_count": null,
   "metadata": {},
   "outputs": [],
   "source": [
    "train_data.columns"
   ]
  },
  {
   "cell_type": "code",
   "execution_count": 75,
   "metadata": {},
   "outputs": [],
   "source": [
    "scatter =[]\n",
    "\n",
    "for column in train_data.columns:\n",
    "    \n",
    "    if train_data[column].dtype != 'object':\n",
    "        \n",
    "        scatter.append(column)"
   ]
  },
  {
   "cell_type": "code",
   "execution_count": 76,
   "metadata": {},
   "outputs": [],
   "source": [
    "#Correlation with target variable\n",
    "\n",
    "features_correlation = train_data[scatter].apply(lambda x : x.corr(train_data['Time from Pickup to Arrival']))\n",
    "\n",
    "features_correlation_abs = features_correlation.apply(lambda x : abs(x))\n",
    "           \n",
    "    \n",
    "feature_correlation_sorted = sorted(features_correlation_abs.items(), key = operator.itemgetter(1), reverse = True)\n"
   ]
  },
  {
   "cell_type": "code",
   "execution_count": 77,
   "metadata": {},
   "outputs": [
    {
     "data": {
      "image/png": "[encoded data removed]",
      "text/plain": [
       "<Figure size 1440x720 with 1 Axes>"
      ]
     },
     "metadata": {
      "image/png": {
       "height": 795,
       "width": 1155
      },
      "needs_background": "light"
     },
     "output_type": "display_data"
    }
   ],
   "source": [
    "#BARPLOT SHOWING FEATURE CORRELATION SCORES\n",
    "\n",
    "features_corr = dict(feature_correlation_sorted)\n",
    "\n",
    "plt.figure(figsize = (20, 10))\n",
    "sb.barplot(x = list(features_corr.keys()), y = list(features_corr.values()), palette = \"Blues_r\")\n",
    "plt.xticks (rotation = 90)\n",
    "plt.show()"
   ]
  },
  {
   "cell_type": "code",
   "execution_count": null,
   "metadata": {},
   "outputs": [],
   "source": [
    "train_features.columns"
   ]
  },
  {
   "cell_type": "code",
   "execution_count": null,
   "metadata": {},
   "outputs": [],
   "source": [
    "train_data.columns"
   ]
  },
  {
   "cell_type": "code",
   "execution_count": null,
   "metadata": {},
   "outputs": [],
   "source": [
    "train_features.columns"
   ]
  },
  {
   "cell_type": "code",
   "execution_count": null,
   "metadata": {},
   "outputs": [],
   "source": [
    "rider_dict"
   ]
  },
  {
   "cell_type": "code",
   "execution_count": null,
   "metadata": {},
   "outputs": [],
   "source": [
    "train_data['Average_Rating'].unique()\n",
    "\n",
    "\n"
   ]
  },
  {
   "cell_type": "code",
   "execution_count": null,
   "metadata": {},
   "outputs": [],
   "source": [
    "train_data['Average_Rating'].value_counts()"
   ]
  },
  {
   "cell_type": "code",
   "execution_count": null,
   "metadata": {},
   "outputs": [],
   "source": [
    "train_data.groupby('Average_Rating')['Speed(km/hr)'].median()"
   ]
  },
  {
   "cell_type": "code",
   "execution_count": null,
   "metadata": {},
   "outputs": [],
   "source": [
    "train_features.columns"
   ]
  },
  {
   "cell_type": "code",
   "execution_count": null,
   "metadata": {},
   "outputs": [],
   "source": [
    "train_data = train_data.loc[train_data['Time from Pickup to Arrival'] <= 1.2] "
   ]
  },
  {
   "cell_type": "code",
   "execution_count": null,
   "metadata": {},
   "outputs": [],
   "source": [
    "#Test not using all Time values\n",
    "\n",
    "train_data.loc[train_data['Time from Pickup to Arrival'] > 1.2][['Distance (KM)', 'Time from Pickup to Arrival']]"
   ]
  },
  {
   "cell_type": "code",
   "execution_count": 217,
   "metadata": {},
   "outputs": [],
   "source": [
    "train_data['overall b4 delivery'] = train_data['confirmation_placement_delta'] + train_data['arrival pickup_confirmation delta'] + train_data['pickup_arrival pickup_delta']"
   ]
  },
  {
   "cell_type": "code",
   "execution_count": 218,
   "metadata": {},
   "outputs": [],
   "source": [
    "test_data['overall b4 delivery'] = test_data['confirmation_placement_delta'] + test_data['arrival pickup_confirmation delta'] + test_data['pickup_arrival pickup_delta']"
   ]
  },
  {
   "cell_type": "code",
   "execution_count": 219,
   "metadata": {},
   "outputs": [],
   "source": [
    "train_data_ref = train_data.copy()"
   ]
  },
  {
   "cell_type": "code",
   "execution_count": 250,
   "metadata": {},
   "outputs": [],
   "source": [
    "train_data = train_data_ref.copy()"
   ]
  },
  {
   "cell_type": "code",
   "execution_count": 230,
   "metadata": {},
   "outputs": [],
   "source": [
    "train_data = train_data[train_data['overall b4 delivery'] <= 3]"
   ]
  },
  {
   "cell_type": "code",
   "execution_count": 458,
   "metadata": {},
   "outputs": [],
   "source": [
    "\n",
    "train_features = train_data.drop(['Order No',\n",
    "                   'User Id', 'Platform Type', 'Pickup - Weekday (Mo = 1)', 'pick time overall hour',\n",
    "                                  'long lat diff', \\\n",
    "                                 'Speed(km/hr)',\\\n",
    "                                 'dist bracket', \\\n",
    "                                'Arrival at Pickup - Time', 'Confirmation - Time', \\\n",
    "                                'Personal or Business',   \\\n",
    "                                 'Pickup - Day of Month', 'Pickup - Time',\n",
    "                                 'Pickup - Time',\\\n",
    "                                'Placement - Time',  'geometric_mean_travel_timeweekly',\n",
    "       'geometric_mean_travel_timehourly', 'geometric_mean_travel_timemonthly',\n",
    "       'geometric_mean_travel_timehourly_weekend',\n",
    "       'geometric_mean_travel_timehourly_weekday',\n",
    "                                 \n",
    "       \n",
    "                                 'distance dataset',\n",
    "                                 \n",
    "                                 \n",
    "                                  'pickup_placement_delta',\n",
    "                                 'arrival pickup_placement delta',  \\\n",
    "                                \n",
    "                                  \\\n",
    "                                \n",
    "                               \n",
    "                                  \\\n",
    "                              \n",
    "       'SubLocation Name.1', \\\n",
    "                                 'SubLocation Name',\n",
    "    \n",
    "      \n",
    "                               'avg_time_hour', 'avg_speed_hour', 'avg_time_day', 'avg_speed_day', 'avg_time_week',  \\\n",
    "                                'overall b4 delivery', 'avg_time_dist', \\\n",
    "                                 ], axis = 1)"
   ]
  },
  {
   "cell_type": "code",
   "execution_count": 456,
   "metadata": {},
   "outputs": [],
   "source": [
    "test_data_model = test_data.drop(['Order_No',\n",
    "                 'User Id', 'Platform Type',\n",
    "                                  'long lat diff', 'Pickup - Weekday (Mo = 1)', 'pick time overall hour',\n",
    "                                 \n",
    "                                 'dist bracket', \\\n",
    "                                'Arrival at Pickup - Time', 'Confirmation - Time', \\\n",
    "                                'Personal or Business', \\\n",
    "                                 'Pickup - Day of Month', 'Pickup - Time', \n",
    "                                  \\\n",
    "                                 'Pickup - Time',\\\n",
    "                                'Placement - Time',\\\n",
    "                                \n",
    "                                 'geometric_mean_travel_timemonthly',\n",
    "       'geometric_mean_travel_timehourly_weekend',\n",
    "       'geometric_mean_travel_timehourly_weekday',\n",
    "                                 'distance dataset',\n",
    "                                 'geometric_mean_travel_timeweekly',\n",
    "                                 'pickup_placement_delta',  \n",
    "                                 'arrival pickup_placement delta',  \\\n",
    "                                \\\n",
    "                                 \n",
    "                                 \\\n",
    "                               'geometric_mean_travel_timehourly', \n",
    "                            \n",
    "                                   \n",
    "                             \n",
    "      'avg_time_hour', 'avg_speed_hour', \n",
    "                                 'SubLocation Name.1','SubLocation Name','avg_time_day', \\\n",
    "                                 'avg_speed_day', 'avg_time_week','overall b4 delivery', 'avg_time_dist', \\\n",
    "                               ],  axis = 1)"
   ]
  },
  {
   "cell_type": "code",
   "execution_count": 477,
   "metadata": {},
   "outputs": [
    {
     "data": {
      "text/plain": [
       "Index(['Destination Lat', 'Destination Long', 'Distance (KM)', 'Pickup Lat',\n",
       "       'Pickup Long', 'Precipitation in millimeters', 'Rider Id',\n",
       "       'Temperature', 'No_Of_Orders', 'Age', 'Average_Rating', 'No_of_Ratings',\n",
       "       '2016 Total Population Pickup', '2016 Total Population destination',\n",
       "       'pickup_arrival pickup_delta', 'pickup_confirmation delta',\n",
       "       'confirmation_placement_delta', 'arrival pickup_confirmation delta',\n",
       "       'latitude difference', 'longitude difference', 'mean_travel_timeweekly',\n",
       "       'mean_travel_timehourly', 'mean_travel_timemonthly',\n",
       "       'mean_travel_timehourly_weekend', 'mean_travel_timehourly_weekday',\n",
       "       'time(s)', 'avg_speed_rider', 'avg_time_rider', 'avg_speed_week',\n",
       "       'ratings / order', 'avg_speed_subloc', 'avg_time_subloc',\n",
       "       'avg_speed_subloc1', 'avg_time_subloc1'],\n",
       "      dtype='object')"
      ]
     },
     "execution_count": 477,
     "metadata": {},
     "output_type": "execute_result"
    }
   ],
   "source": [
    "train_features.columns"
   ]
  },
  {
   "cell_type": "code",
   "execution_count": 149,
   "metadata": {},
   "outputs": [
    {
     "data": {
      "text/plain": [
       "1.2911111111111109"
      ]
     },
     "execution_count": 149,
     "metadata": {},
     "output_type": "execute_result"
    }
   ],
   "source": [
    "train_features['Time from Pickup to Arrival'].quantile(0.99)"
   ]
  },
  {
   "cell_type": "code",
   "execution_count": null,
   "metadata": {},
   "outputs": [],
   "source": [
    "set(train_features.columns)-set(test_data_model.columns)"
   ]
  },
  {
   "cell_type": "code",
   "execution_count": null,
   "metadata": {},
   "outputs": [],
   "source": []
  },
  {
   "cell_type": "code",
   "execution_count": null,
   "metadata": {},
   "outputs": [],
   "source": []
  },
  {
   "cell_type": "code",
   "execution_count": null,
   "metadata": {},
   "outputs": [],
   "source": []
  },
  {
   "cell_type": "code",
   "execution_count": null,
   "metadata": {},
   "outputs": [],
   "source": []
  },
  {
   "cell_type": "code",
   "execution_count": null,
   "metadata": {},
   "outputs": [],
   "source": [
    "#Extracting numeric columns for scatter plots\n",
    "\n",
    "#dict for holding numeric columns\n",
    "\n",
    "scatter =[]\n",
    "\n",
    "for column in train_features.columns:\n",
    "    \n",
    "    if train_features[column].dtype != 'object':\n",
    "        \n",
    "        scatter.append(column)\n",
    "        "
   ]
  },
  {
   "cell_type": "code",
   "execution_count": null,
   "metadata": {},
   "outputs": [],
   "source": [
    "train_features[scatter].hist(bins = 25, figsize = (20, 15));"
   ]
  },
  {
   "cell_type": "markdown",
   "metadata": {},
   "source": [
    "# Additional EDA"
   ]
  },
  {
   "cell_type": "code",
   "execution_count": null,
   "metadata": {},
   "outputs": [],
   "source": [
    "#converting categorical to numeric encodings\n",
    "def convert_object(df, df_test):\n",
    "    \n",
    "    for category in df.columns:\n",
    "        \n",
    "        le = LabelEncoder()\n",
    "    \n",
    "        if df[category].dtype == 'object':\n",
    "        \n",
    "            df[category] = le.fit_transform(df[category])\n",
    "            \n",
    "            df_test[category] = le.transform(df_test[category])\n",
    "            \n",
    "    return df, df_test"
   ]
  },
  {
   "cell_type": "code",
   "execution_count": null,
   "metadata": {},
   "outputs": [],
   "source": [
    "train_features, test_data_model = convert_object(train_features, test_data_model)"
   ]
  },
  {
   "cell_type": "code",
   "execution_count": null,
   "metadata": {},
   "outputs": [],
   "source": [
    "len(train_features)"
   ]
  },
  {
   "cell_type": "code",
   "execution_count": null,
   "metadata": {},
   "outputs": [],
   "source": [
    "train_data['Speed(km/hr)'].hist()"
   ]
  },
  {
   "cell_type": "code",
   "execution_count": null,
   "metadata": {},
   "outputs": [],
   "source": [
    "train_data['Speed(km/hr)'].quantile(0.99)"
   ]
  },
  {
   "cell_type": "code",
   "execution_count": null,
   "metadata": {},
   "outputs": [],
   "source": [
    "#visualizing confirmation_placement\n",
    "\n",
    "#train_features['confirmation_placement_delta'].hist(bins = 10, figsize = (15, 15));\n",
    "\n",
    "#np.arange(0, train_features['confirmation_placement_delta'].max())\n",
    "#plt.hist(data = poke, x = 'Speed', bins = bins)\n",
    "\n",
    "\n",
    "Q1 = train_features['confirmation_placement_delta'].quantile(0.25)\n",
    "\n",
    "# TODO: Calculate the third quartile of the population values\n",
    "Q3 = train_features['confirmation_placement_delta'].quantile(0.75)\n",
    "\n",
    "# TODP: Calculate the interquartile range Q3 - Q1\n",
    "IQR = Q3 - Q1\n",
    "\n",
    "# TODO: Calculate the maximum value and minimum values according to the Tukey rule\n",
    "# max_value is Q3 + 1.5 * IQR while min_value is Q1 - 1.5 * IQR\n",
    "max_value = Q3 + 3 * IQR\n",
    "min_value = Q1 - 3 * IQR"
   ]
  },
  {
   "cell_type": "code",
   "execution_count": 459,
   "metadata": {},
   "outputs": [],
   "source": [
    "# TODO: filter the population_2016 data for population values that are greater than max_value or less than min_value\n",
    "train_features = train_features[(train_features['Distance (KM)'] < 30)]\n",
    "\n",
    "train_targets = train_features['Time from Pickup to Arrival']"
   ]
  },
  {
   "cell_type": "code",
   "execution_count": 179,
   "metadata": {},
   "outputs": [
    {
     "data": {
      "text/plain": [
       "2026.33"
      ]
     },
     "execution_count": 179,
     "metadata": {},
     "output_type": "execute_result"
    }
   ],
   "source": [
    "test_data_model['No_of_Ratings'].quantile(0.99)"
   ]
  },
  {
   "cell_type": "code",
   "execution_count": 460,
   "metadata": {},
   "outputs": [],
   "source": [
    "train_features = train_features.drop(['Time from Pickup to Arrival'], axis = 1)"
   ]
  },
  {
   "cell_type": "code",
   "execution_count": null,
   "metadata": {},
   "outputs": [],
   "source": []
  },
  {
   "cell_type": "code",
   "execution_count": null,
   "metadata": {},
   "outputs": [],
   "source": []
  },
  {
   "cell_type": "code",
   "execution_count": null,
   "metadata": {},
   "outputs": [],
   "source": [
    "# train_features = convert_object(train_features)\n",
    "\n",
    "# test_data_model = convert_object(test_data_model)"
   ]
  },
  {
   "cell_type": "code",
   "execution_count": null,
   "metadata": {},
   "outputs": [],
   "source": [
    "test_data_model['loc bracket']"
   ]
  },
  {
   "cell_type": "markdown",
   "metadata": {},
   "source": [
    "# Lightgbm Approach"
   ]
  },
  {
   "cell_type": "code",
   "execution_count": 81,
   "metadata": {},
   "outputs": [],
   "source": [
    "import lightgbm as lgb"
   ]
  },
  {
   "cell_type": "code",
   "execution_count": null,
   "metadata": {},
   "outputs": [],
   "source": [
    "import xgboost as xgb"
   ]
  },
  {
   "cell_type": "code",
   "execution_count": null,
   "metadata": {},
   "outputs": [],
   "source": []
  },
  {
   "cell_type": "code",
   "execution_count": null,
   "metadata": {},
   "outputs": [],
   "source": [
    "# print('Training and making predictions')\n",
    "# params = {\n",
    "#     'max_depth':[2, 4, 6, 8, 10, 50, 100, 200],\n",
    "#     'learning_rate':[0.05, 0.1],\n",
    "#     'min_data_in_leaf':[20, 40, 60, 80],\n",
    "#     'num_leaves':[10, 50, 80, 150],\n",
    "#     'n_estimators':[100, 200, 600, 1000],\n",
    "#     #'min_sum_hessian_in_leaf':[1e-2, 1e-3, 1, 2, 4],\n",
    "#     'bagging_fraction':[0.1, 0.2, 0.4],\n",
    "#     'bagging_freq':[2, 4],\n",
    "#     #'lambda_l2':[0, 10, 20, 30, 40, 50, 60],\n",
    "#     #'min_gain_to_split':[1, 2],\n",
    "#     'top_k':[20, 100],\n",
    "#     'max_bin':[300, 400, 500, 600]}\n",
    "\n",
    "# #n_iters = 100                                                             \n",
    "                                                              \n",
    "# #create Grid search object\n",
    "\n",
    "# lboost = lgb.LGBMRegressor(objective='regression', metric='l2')\n",
    "\n",
    "# lboost_cv = GridSearchCV(estimator = lboost, param_grid = params, cv = 5)\n",
    "\n",
    "\n",
    "# #d_train = lgb.Dataset(x_train, label=y_train)\n",
    "    \n",
    "# lb_model = lboost_cv.fit(x_train, y_train)\n",
    "    \n",
    "\n",
    "\n",
    "# print(lb_model.best_estimator_)\n",
    "# print('R2 training: ', lb_model.score(x_train, y_train))\n",
    "# print('R2 test: ', lb_model.score(x_test, y_test))\n",
    "\n",
    "    "
   ]
  },
  {
   "cell_type": "code",
   "execution_count": null,
   "metadata": {},
   "outputs": [],
   "source": [
    "# MAX_ROUNDS = 1000\n",
    "# OPTIMIZE_ROUNDS = True\n",
    "# LEARNING_RATE = 0.04\n",
    "# EARLY_STOPPING_ROUNDS = 100  \n",
    "# # Note: I set EARLY_STOPPING_ROUNDS high so that (when OPTIMIZE_ROUNDS is set)\n",
    "# #       I will get lots of information to make my own judgment.  You should probably\n",
    "# #       reduce EARLY_STOPPING_ROUNDS if you want to do actual early stopping."
   ]
  },
  {
   "cell_type": "code",
   "execution_count": null,
   "metadata": {},
   "outputs": [],
   "source": [
    "# # Set up folds\n",
    "# K = 5\n",
    "# kf = KFold(n_splits = K, random_state = 1, shuffle = True)\n",
    "# np.random.seed(0)"
   ]
  },
  {
   "cell_type": "code",
   "execution_count": null,
   "metadata": {},
   "outputs": [],
   "source": [
    "# # #XGBOOST\n",
    "\n",
    "\n",
    "# model = xgb.XGBRegressor(    \n",
    "#                         n_estimators=MAX_ROUNDS,\n",
    "#                         max_depth=4,\n",
    "#                         objective=\"reg:squarederror\",\n",
    "#                         learning_rate=LEARNING_RATE, \n",
    "#                         subsample=.8,\n",
    "#                         min_child_weight=6,\n",
    "#                         colsample_bytree= 1,\n",
    "#                         scale_pos_weight=1.6,\n",
    "#                         gamma=1\n",
    "#                         #reg_alpha=8,\n",
    "#                         #reg_lambda=1.3,\n",
    "#                      )\n",
    "\n",
    "# # Run CV\n",
    "\n",
    "# for i, (train_index, test_index) in enumerate(kf.split(train_features)):\n",
    "    \n",
    "#     # Create data for this fold\n",
    "#     y_train, y_valid = train_targets.iloc[train_index].copy(), train_targets.iloc[test_index]\n",
    "    \n",
    "#     X_train, X_valid = train_features.iloc[train_index,:].copy(), train_features.iloc[test_index,:].copy()\n",
    "    \n",
    "#     print( \"\\nFold \", i)\n",
    "    \n",
    "#     # Run model for this fold\n",
    "#     if OPTIMIZE_ROUNDS:\n",
    "        \n",
    "#         eval_set=[(X_valid,y_valid)]\n",
    "        \n",
    "#         fit_model = model.fit( X_train, y_train, \n",
    "                              \n",
    "#                                eval_set=eval_set,\n",
    "                              \n",
    "#                                eval_metric= \"rmse\",\n",
    "                              \n",
    "#                                early_stopping_rounds=EARLY_STOPPING_ROUNDS,\n",
    "                              \n",
    "#                                verbose=False\n",
    "#                              )\n",
    "#         print( \"  Best N trees = \", model.best_ntree_limit)\n",
    "        \n",
    "#         print( \"  Best gini = \", model.best_score )\n",
    "        \n",
    "#     else:\n",
    "        \n",
    "#         fit_model = model.fit( X_train, y_train )\n",
    "\n",
    "\n"
   ]
  },
  {
   "cell_type": "code",
   "execution_count": null,
   "metadata": {},
   "outputs": [],
   "source": [
    "# y_pred = fit_model.predict(train_features)\n",
    "\n",
    "# sqrt(mean_squared_error(y_pred * 3600, train_targets * 3600))"
   ]
  },
  {
   "cell_type": "code",
   "execution_count": null,
   "metadata": {},
   "outputs": [],
   "source": [
    "# # Run model for this fold\n",
    "#     if OPTIMIZE_ROUNDS:\n",
    "        \n",
    "#         eval_set=[(X_valid,y_valid)]\n",
    "        \n",
    "#         fit_model = model.fit( X_train, y_train, \n",
    "                              \n",
    "#                                eval_set=eval_set,\n",
    "                              \n",
    "#                                eval_metric=rmsle,\n",
    "                              \n",
    "#                                early_stopping_rounds=EARLY_STOPPING_ROUNDS,\n",
    "                              \n",
    "#                                verbose=False\n",
    "#                              )\n",
    "#         print( \"  Best N trees = \", model.best_ntree_limit )\n",
    "        \n",
    "#         print( \"  Best gini = \", model.best_score )\n",
    "        \n",
    "#     else:\n",
    "        \n",
    "#         fit_model = model.fit( X_train, y_train )\n",
    "\n",
    "\n",
    "\n",
    "\n",
    "\n",
    "\n",
    "\n",
    "\n",
    "\n",
    "\n",
    "\n",
    "\n",
    "# # d_train = xgb.DMatrix(x_train, label = y_train)\n",
    "\n",
    "\n",
    "# # d_valid = xgb.DMatrix(x_val, label= y_val)\n",
    "\n",
    "# # watchlist = [d_valid]\n",
    "\n",
    "# # xg_reg.fit(x_train, y_train)\n",
    "\n",
    "\n",
    "# # preds = xg_reg.predict(x_val)\n",
    "\n",
    "# print(sqrt(mean_squared_error(preds * 3600, y_val* 3600)))"
   ]
  },
  {
   "cell_type": "code",
   "execution_count": null,
   "metadata": {},
   "outputs": [],
   "source": [
    "\n",
    "# params = {\"learning-rate\" : [0.02, 0.04, 0.06, 0.08, 0.10],\n",
    "#          \"max_depth\" : [3, 5, 6, 10],\n",
    "#          \"colsample_bytree\" : [0.3, 0.4, 0.5, 0.7, 0.8],\n",
    "#          \"n_estimators\" : [50, 100, 150, 200, 400, 600],\n",
    "#          \"gamma\" : [0.1, 0.2]}\n",
    "          \n",
    "          \n",
    "          \n",
    "# model = xgb.XGBRegressor(objective=\"reg:squarederror\")\n",
    "          \n",
    "# kfold = KFold(n_splits = 5, shuffle = True, random_state = 7)\n",
    "          \n",
    "          \n",
    "# grid_search = GridSearchCV(model, params, cv = kfold)\n",
    "          \n",
    "# grid_result = grid_search.fit(train_features, train_targets)\n",
    "\n",
    "\n",
    "# d_train = xgb.Matrix(x_train, label = y_train)\n",
    "\n",
    "\n",
    "# d_valid = xgb.DMatrix(x_val, label= y_val)\n",
    "\n",
    "# watchlist = [d_valid]\n",
    "\n",
    "# xg_reg.fit(x_train, y_train)\n",
    "\n",
    "\n",
    "# preds = xg_reg.predict(x_val)\n",
    "\n",
    "# print(sqrt(mean_squared_error(preds * 3600, y_val* 3600)))"
   ]
  },
  {
   "cell_type": "code",
   "execution_count": 82,
   "metadata": {},
   "outputs": [],
   "source": [
    "#Validation function\n",
    "n_folds = 10\n",
    "\n",
    "def rmsle_cv(model):\n",
    "    kf = KFold(n_folds, shuffle=True, random_state=100)\n",
    "    rmse= np.sqrt(-cross_val_score(model, train_features, train_targets, scoring='neg_mean_squared_error', cv = kf))\n",
    "    return(rmse)"
   ]
  },
  {
   "cell_type": "code",
   "execution_count": 461,
   "metadata": {},
   "outputs": [],
   "source": [
    "#lIGHTGBM\n",
    "\n",
    "model_lgb = lgb.LGBMRegressor(objective='regression',num_leaves=20,\n",
    "                              learning_rate=0.03, n_estimators= 500,\n",
    "                              bagging_fraction= 0.5, feature_fraction = 0.5,\n",
    "                              max_depth = 20, min_child_samples = 100, \\\n",
    "                             )"
   ]
  },
  {
   "cell_type": "code",
   "execution_count": null,
   "metadata": {},
   "outputs": [],
   "source": [
    "model_xgb = xgb.XGBRegressor(objective='reg:squarederror', num_leaves=20,\n",
    "                              learning_rate=0.06, n_estimators= 200,\n",
    "                              subsample = 0.5, colsample_bytree = 0.5,\n",
    "                              max_depth = 20, min_child_samples = 100, \\\n",
    "                             )"
   ]
  },
  {
   "cell_type": "code",
   "execution_count": 227,
   "metadata": {},
   "outputs": [
    {
     "data": {
      "text/plain": [
       "22"
      ]
     },
     "execution_count": 227,
     "metadata": {},
     "output_type": "execute_result"
    }
   ],
   "source": [
    "len(train_features)"
   ]
  },
  {
   "cell_type": "code",
   "execution_count": 462,
   "metadata": {},
   "outputs": [
    {
     "name": "stdout",
     "output_type": "stream",
     "text": [
      "LGBM score:704.5505 (0.0079)\n",
      "\n"
     ]
    }
   ],
   "source": [
    "score = rmsle_cv(model_lgb)\n",
    "print(\"LGBM score:{:.4f} ({:.4f})\\n\" .format(score\n",
    "             \n",
    "                                             \n",
    "           \n",
    "        \n",
    "                   \n",
    "                                             .mean() * 3600, score.std()))\n",
    "\n"
   ]
  },
  {
   "cell_type": "code",
   "execution_count": null,
   "metadata": {},
   "outputs": [],
   "source": [
    "score = rmsle_cv(model_xgb)\n",
    "print(\"LGBM score:{:.4f} ({:.4f})\\n\" .format(score\n",
    "             \n",
    "                                             \n",
    "           \n",
    "        \n",
    "                   \n",
    "                                             .mean() * 3600, score.std()))\n",
    "\n"
   ]
  },
  {
   "cell_type": "code",
   "execution_count": 463,
   "metadata": {},
   "outputs": [],
   "source": [
    "# from sklearn.metrics import SCORERS\n",
    "# SCORERS.keys()\n",
    "\n",
    "model_lgb.fit(train_features, train_targets)\n",
    "\n",
    "\n",
    "preds = model_lgb.predict(train_features)"
   ]
  },
  {
   "cell_type": "code",
   "execution_count": null,
   "metadata": {},
   "outputs": [],
   "source": [
    "lgb_params = {'boosting_type' : 'gbdt', 'objective' : 'regression', 'num_leaves' : 20, 'max_depth' : 20,\\\n",
    "             'learning_rate' : 0.06, 'feature_fraction': 0.3, 'bagging_fraction':0.3, 'split' : 'gain', \\\n",
    "             'min_child_samples' : 100}\n",
    "\n",
    "n_estimators = 600\n",
    "\n",
    "d_train = lgb.Dataset(train_features, label = train_targets)\n",
    "\n",
    "cv_results_lgb = lgb.cv(lgb_params, d_train, num_boost_round = 600, nfold = 5, metrics = \"rmse\", stratified = False)\n",
    "\n",
    "\n",
    "cv_results_lgb['rmse-mean'][-1] * 3600"
   ]
  },
  {
   "cell_type": "code",
   "execution_count": null,
   "metadata": {},
   "outputs": [],
   "source": [
    "#lightgbm model 1\n",
    "\n",
    "\n",
    "lgb_params = {'boosting_type' : 'gbdt', 'objective' : 'regression', 'num_leaves' : 20, 'max_depth' : 20,\\\n",
    "             'learning_rate' : 0.06, 'feature_fraction': 0.3, 'bagging_fraction':0.3, 'split' : 'gain', \\\n",
    "             'min_child_samples' : 100}\n",
    "\n",
    "n_estimators = 700\n",
    "\n",
    "d_train = lgb.Dataset(train_features, label = train_targets)\n",
    "\n",
    "# d_valid = lgb.Dataset(x_val, label= y_val)\n",
    "\n",
    "# watchlist = [d_valid]\n",
    "\n",
    "model = lgb.train(lgb_params, d_train, n_estimators, verbose_eval=0 )\n",
    "\n",
    "\n",
    "# preds = model.predict(x_val)\n",
    "\n",
    "# print(sqrt(mean_squared_error(preds * 3600,  y_val* 3600)))"
   ]
  },
  {
   "cell_type": "code",
   "execution_count": null,
   "metadata": {},
   "outputs": [],
   "source": [
    "train_features.columns"
   ]
  },
  {
   "cell_type": "code",
   "execution_count": 464,
   "metadata": {},
   "outputs": [
    {
     "name": "stdout",
     "output_type": "stream",
     "text": [
      "637.7487224833314\n"
     ]
    }
   ],
   "source": [
    "print(sqrt(mean_squared_error(model_lgb.predict(train_features) * 3600, train_targets * 3600)))"
   ]
  },
  {
   "cell_type": "code",
   "execution_count": null,
   "metadata": {},
   "outputs": [],
   "source": [
    "from sklearn.externals import joblib\n",
    "\n",
    "joblib.dump(model, 'lgb_best_model_best 709.pkl')\n",
    "\n",
    "gbm_pickle = joblib.load('lgb_best_model_best 709.pkl')"
   ]
  },
  {
   "cell_type": "code",
   "execution_count": null,
   "metadata": {},
   "outputs": [],
   "source": [
    "gbm_pickle.params"
   ]
  },
  {
   "cell_type": "code",
   "execution_count": null,
   "metadata": {},
   "outputs": [],
   "source": [
    "lgbm1_predict= gbm_pickle.predict(train_features)"
   ]
  },
  {
   "cell_type": "code",
   "execution_count": null,
   "metadata": {},
   "outputs": [],
   "source": [
    "# print(sqrt(mean_squared_error(lgbm1_predict * 3600, train_targets * 3600)))"
   ]
  },
  {
   "cell_type": "markdown",
   "metadata": {},
   "source": [
    "# Predictions on test data"
   ]
  },
  {
   "cell_type": "code",
   "execution_count": null,
   "metadata": {},
   "outputs": [],
   "source": [
    "train_features.columns"
   ]
  },
  {
   "cell_type": "code",
   "execution_count": null,
   "metadata": {},
   "outputs": [],
   "source": [
    "test_data_model.isnull().sum(axis = 0)"
   ]
  },
  {
   "cell_type": "code",
   "execution_count": 249,
   "metadata": {},
   "outputs": [
    {
     "data": {
      "text/plain": [
       "21057"
      ]
     },
     "execution_count": 249,
     "metadata": {},
     "output_type": "execute_result"
    }
   ],
   "source": [
    "len(train_features)"
   ]
  },
  {
   "cell_type": "code",
   "execution_count": 465,
   "metadata": {},
   "outputs": [
    {
     "data": {
      "text/plain": [
       "<matplotlib.axes._subplots.AxesSubplot at 0x2c8dbb469e8>"
      ]
     },
     "execution_count": 465,
     "metadata": {},
     "output_type": "execute_result"
    },
    {
     "data": {
      "image/png": "[encoded data removed]",
      "text/plain": [
       "<Figure size 432x288 with 1 Axes>"
      ]
     },
     "metadata": {
      "image/png": {
       "height": 277,
       "width": 619
      },
      "needs_background": "light"
     },
     "output_type": "display_data"
    }
   ],
   "source": [
    "lgb.plot_importance(model_lgb, importance_type = \"gain\")"
   ]
  },
  {
   "cell_type": "code",
   "execution_count": null,
   "metadata": {},
   "outputs": [],
   "source": []
  },
  {
   "cell_type": "code",
   "execution_count": 466,
   "metadata": {},
   "outputs": [],
   "source": [
    "test_data_model= test_data_model.drop(['Time from Pickup to Arrival predictions'], axis = 1)"
   ]
  },
  {
   "cell_type": "code",
   "execution_count": null,
   "metadata": {},
   "outputs": [],
   "source": [
    "train_features.columns"
   ]
  },
  {
   "cell_type": "code",
   "execution_count": null,
   "metadata": {},
   "outputs": [],
   "source": [
    "test_data_model.columns"
   ]
  },
  {
   "cell_type": "code",
   "execution_count": 467,
   "metadata": {},
   "outputs": [],
   "source": [
    "test_data['Time from Pickup to Arrival predictions'] = model_lgb.predict(test_data_model)"
   ]
  },
  {
   "cell_type": "code",
   "execution_count": null,
   "metadata": {},
   "outputs": [],
   "source": [
    "set(test_data_model.columns) - set(train_features.columns)"
   ]
  },
  {
   "cell_type": "code",
   "execution_count": 468,
   "metadata": {},
   "outputs": [],
   "source": [
    "test_data['Time from Pickup to Arrival predictions'] = abs(test_data['Time from Pickup to Arrival predictions'] * 3600)"
   ]
  },
  {
   "cell_type": "code",
   "execution_count": 469,
   "metadata": {},
   "outputs": [],
   "source": [
    "submission = pd.read_csv('SampleSubmission.csv', encoding = 'utf-8')\n"
   ]
  },
  {
   "cell_type": "code",
   "execution_count": 97,
   "metadata": {},
   "outputs": [],
   "source": [
    "test_data['Order_No'] = test_data['Order No']\n",
    "\n",
    "test_data = test_data.drop(['Order No'], axis =1)"
   ]
  },
  {
   "cell_type": "code",
   "execution_count": 470,
   "metadata": {},
   "outputs": [],
   "source": [
    "test_results = submission.merge(test_data, how = 'inner', on = ['Order_No'])\n",
    "\n"
   ]
  },
  {
   "cell_type": "code",
   "execution_count": 471,
   "metadata": {},
   "outputs": [],
   "source": [
    "test_results = test_results[['Order_No', 'Time from Pickup to Arrival predictions']]"
   ]
  },
  {
   "cell_type": "code",
   "execution_count": 472,
   "metadata": {},
   "outputs": [],
   "source": [
    "test_results = test_results.rename(columns = {\"Time from Pickup to Arrival predictions\" : \"Time from Pickup to Arrival\"})"
   ]
  },
  {
   "cell_type": "code",
   "execution_count": 473,
   "metadata": {},
   "outputs": [],
   "source": [
    "test_results[\"Time from Pickup to Arrival\"] = test_results[\"Time from Pickup to Arrival\"].astype(int)"
   ]
  },
  {
   "cell_type": "code",
   "execution_count": null,
   "metadata": {},
   "outputs": [],
   "source": [
    "#test_results = test_results[\"Time from Pickup to Arrival\"]"
   ]
  },
  {
   "cell_type": "code",
   "execution_count": 414,
   "metadata": {},
   "outputs": [],
   "source": [
    "test_results.to_csv('last model 1.csv', index = False)"
   ]
  },
  {
   "cell_type": "code",
   "execution_count": 476,
   "metadata": {},
   "outputs": [
    {
     "data": {
      "text/html": [
       "<div>\n",
       "<style scoped>\n",
       "    .dataframe tbody tr th:only-of-type {\n",
       "        vertical-align: middle;\n",
       "    }\n",
       "\n",
       "    .dataframe tbody tr th {\n",
       "        vertical-align: top;\n",
       "    }\n",
       "\n",
       "    .dataframe thead th {\n",
       "        text-align: right;\n",
       "    }\n",
       "</style>\n",
       "<table border=\"1\" class=\"dataframe\">\n",
       "  <thead>\n",
       "    <tr style=\"text-align: right;\">\n",
       "      <th></th>\n",
       "      <th>Order_No</th>\n",
       "      <th>Time from Pickup to Arrival</th>\n",
       "    </tr>\n",
       "  </thead>\n",
       "  <tbody>\n",
       "    <tr>\n",
       "      <th>0</th>\n",
       "      <td>Order_No_19248</td>\n",
       "      <td>1664</td>\n",
       "    </tr>\n",
       "    <tr>\n",
       "      <th>1</th>\n",
       "      <td>Order_No_12736</td>\n",
       "      <td>1690</td>\n",
       "    </tr>\n",
       "    <tr>\n",
       "      <th>2</th>\n",
       "      <td>Order_No_768</td>\n",
       "      <td>1665</td>\n",
       "    </tr>\n",
       "    <tr>\n",
       "      <th>3</th>\n",
       "      <td>Order_No_15332</td>\n",
       "      <td>1007</td>\n",
       "    </tr>\n",
       "    <tr>\n",
       "      <th>4</th>\n",
       "      <td>Order_No_21373</td>\n",
       "      <td>1062</td>\n",
       "    </tr>\n",
       "    <tr>\n",
       "      <th>5</th>\n",
       "      <td>Order_No_14573</td>\n",
       "      <td>2254</td>\n",
       "    </tr>\n",
       "    <tr>\n",
       "      <th>6</th>\n",
       "      <td>Order_No_6731</td>\n",
       "      <td>1994</td>\n",
       "    </tr>\n",
       "    <tr>\n",
       "      <th>7</th>\n",
       "      <td>Order_No_18436</td>\n",
       "      <td>1570</td>\n",
       "    </tr>\n",
       "    <tr>\n",
       "      <th>8</th>\n",
       "      <td>Order_No_2288</td>\n",
       "      <td>1462</td>\n",
       "    </tr>\n",
       "    <tr>\n",
       "      <th>9</th>\n",
       "      <td>Order_No_9063</td>\n",
       "      <td>2490</td>\n",
       "    </tr>\n",
       "    <tr>\n",
       "      <th>10</th>\n",
       "      <td>Order_No_4814</td>\n",
       "      <td>731</td>\n",
       "    </tr>\n",
       "    <tr>\n",
       "      <th>11</th>\n",
       "      <td>Order_No_16747</td>\n",
       "      <td>2978</td>\n",
       "    </tr>\n",
       "    <tr>\n",
       "      <th>12</th>\n",
       "      <td>Order_No_6376</td>\n",
       "      <td>1425</td>\n",
       "    </tr>\n",
       "    <tr>\n",
       "      <th>13</th>\n",
       "      <td>Order_No_1199</td>\n",
       "      <td>1545</td>\n",
       "    </tr>\n",
       "    <tr>\n",
       "      <th>14</th>\n",
       "      <td>Order_No_17119</td>\n",
       "      <td>1490</td>\n",
       "    </tr>\n",
       "    <tr>\n",
       "      <th>15</th>\n",
       "      <td>Order_No_14832</td>\n",
       "      <td>1341</td>\n",
       "    </tr>\n",
       "    <tr>\n",
       "      <th>16</th>\n",
       "      <td>Order_No_12321</td>\n",
       "      <td>785</td>\n",
       "    </tr>\n",
       "    <tr>\n",
       "      <th>17</th>\n",
       "      <td>Order_No_24820</td>\n",
       "      <td>1796</td>\n",
       "    </tr>\n",
       "    <tr>\n",
       "      <th>18</th>\n",
       "      <td>Order_No_6065</td>\n",
       "      <td>1384</td>\n",
       "    </tr>\n",
       "    <tr>\n",
       "      <th>19</th>\n",
       "      <td>Order_No_13176</td>\n",
       "      <td>445</td>\n",
       "    </tr>\n",
       "    <tr>\n",
       "      <th>20</th>\n",
       "      <td>Order_No_23557</td>\n",
       "      <td>947</td>\n",
       "    </tr>\n",
       "    <tr>\n",
       "      <th>21</th>\n",
       "      <td>Order_No_20488</td>\n",
       "      <td>1809</td>\n",
       "    </tr>\n",
       "    <tr>\n",
       "      <th>22</th>\n",
       "      <td>Order_No_24214</td>\n",
       "      <td>1477</td>\n",
       "    </tr>\n",
       "    <tr>\n",
       "      <th>23</th>\n",
       "      <td>Order_No_21206</td>\n",
       "      <td>536</td>\n",
       "    </tr>\n",
       "    <tr>\n",
       "      <th>24</th>\n",
       "      <td>Order_No_1930</td>\n",
       "      <td>425</td>\n",
       "    </tr>\n",
       "    <tr>\n",
       "      <th>25</th>\n",
       "      <td>Order_No_28180</td>\n",
       "      <td>2897</td>\n",
       "    </tr>\n",
       "    <tr>\n",
       "      <th>26</th>\n",
       "      <td>Order_No_13329</td>\n",
       "      <td>500</td>\n",
       "    </tr>\n",
       "    <tr>\n",
       "      <th>27</th>\n",
       "      <td>Order_No_19004</td>\n",
       "      <td>925</td>\n",
       "    </tr>\n",
       "    <tr>\n",
       "      <th>28</th>\n",
       "      <td>Order_No_27510</td>\n",
       "      <td>2729</td>\n",
       "    </tr>\n",
       "    <tr>\n",
       "      <th>29</th>\n",
       "      <td>Order_No_25394</td>\n",
       "      <td>1499</td>\n",
       "    </tr>\n",
       "    <tr>\n",
       "      <th>...</th>\n",
       "      <td>...</td>\n",
       "      <td>...</td>\n",
       "    </tr>\n",
       "    <tr>\n",
       "      <th>7038</th>\n",
       "      <td>Order_No_10317</td>\n",
       "      <td>1389</td>\n",
       "    </tr>\n",
       "    <tr>\n",
       "      <th>7039</th>\n",
       "      <td>Order_No_11143</td>\n",
       "      <td>1431</td>\n",
       "    </tr>\n",
       "    <tr>\n",
       "      <th>7040</th>\n",
       "      <td>Order_No_8996</td>\n",
       "      <td>2364</td>\n",
       "    </tr>\n",
       "    <tr>\n",
       "      <th>7041</th>\n",
       "      <td>Order_No_14381</td>\n",
       "      <td>569</td>\n",
       "    </tr>\n",
       "    <tr>\n",
       "      <th>7042</th>\n",
       "      <td>Order_No_22839</td>\n",
       "      <td>842</td>\n",
       "    </tr>\n",
       "    <tr>\n",
       "      <th>7043</th>\n",
       "      <td>Order_No_463</td>\n",
       "      <td>448</td>\n",
       "    </tr>\n",
       "    <tr>\n",
       "      <th>7044</th>\n",
       "      <td>Order_No_3700</td>\n",
       "      <td>1423</td>\n",
       "    </tr>\n",
       "    <tr>\n",
       "      <th>7045</th>\n",
       "      <td>Order_No_23416</td>\n",
       "      <td>1516</td>\n",
       "    </tr>\n",
       "    <tr>\n",
       "      <th>7046</th>\n",
       "      <td>Order_No_16891</td>\n",
       "      <td>474</td>\n",
       "    </tr>\n",
       "    <tr>\n",
       "      <th>7047</th>\n",
       "      <td>Order_No_17710</td>\n",
       "      <td>1883</td>\n",
       "    </tr>\n",
       "    <tr>\n",
       "      <th>7048</th>\n",
       "      <td>Order_No_233</td>\n",
       "      <td>1507</td>\n",
       "    </tr>\n",
       "    <tr>\n",
       "      <th>7049</th>\n",
       "      <td>Order_No_15773</td>\n",
       "      <td>571</td>\n",
       "    </tr>\n",
       "    <tr>\n",
       "      <th>7050</th>\n",
       "      <td>Order_No_15488</td>\n",
       "      <td>994</td>\n",
       "    </tr>\n",
       "    <tr>\n",
       "      <th>7051</th>\n",
       "      <td>Order_No_16865</td>\n",
       "      <td>1015</td>\n",
       "    </tr>\n",
       "    <tr>\n",
       "      <th>7052</th>\n",
       "      <td>Order_No_1301</td>\n",
       "      <td>391</td>\n",
       "    </tr>\n",
       "    <tr>\n",
       "      <th>7053</th>\n",
       "      <td>Order_No_18519</td>\n",
       "      <td>1225</td>\n",
       "    </tr>\n",
       "    <tr>\n",
       "      <th>7054</th>\n",
       "      <td>Order_No_14258</td>\n",
       "      <td>818</td>\n",
       "    </tr>\n",
       "    <tr>\n",
       "      <th>7055</th>\n",
       "      <td>Order_No_8374</td>\n",
       "      <td>1553</td>\n",
       "    </tr>\n",
       "    <tr>\n",
       "      <th>7056</th>\n",
       "      <td>Order_No_25128</td>\n",
       "      <td>3085</td>\n",
       "    </tr>\n",
       "    <tr>\n",
       "      <th>7057</th>\n",
       "      <td>Order_No_11937</td>\n",
       "      <td>2938</td>\n",
       "    </tr>\n",
       "    <tr>\n",
       "      <th>7058</th>\n",
       "      <td>Order_No_25241</td>\n",
       "      <td>1820</td>\n",
       "    </tr>\n",
       "    <tr>\n",
       "      <th>7059</th>\n",
       "      <td>Order_No_5287</td>\n",
       "      <td>1180</td>\n",
       "    </tr>\n",
       "    <tr>\n",
       "      <th>7060</th>\n",
       "      <td>Order_No_7712</td>\n",
       "      <td>2548</td>\n",
       "    </tr>\n",
       "    <tr>\n",
       "      <th>7061</th>\n",
       "      <td>Order_No_294</td>\n",
       "      <td>1175</td>\n",
       "    </tr>\n",
       "    <tr>\n",
       "      <th>7062</th>\n",
       "      <td>Order_No_16972</td>\n",
       "      <td>1710</td>\n",
       "    </tr>\n",
       "    <tr>\n",
       "      <th>7063</th>\n",
       "      <td>Order_No_3612</td>\n",
       "      <td>1610</td>\n",
       "    </tr>\n",
       "    <tr>\n",
       "      <th>7064</th>\n",
       "      <td>Order_No_7657</td>\n",
       "      <td>2949</td>\n",
       "    </tr>\n",
       "    <tr>\n",
       "      <th>7065</th>\n",
       "      <td>Order_No_1969</td>\n",
       "      <td>1378</td>\n",
       "    </tr>\n",
       "    <tr>\n",
       "      <th>7066</th>\n",
       "      <td>Order_No_10591</td>\n",
       "      <td>2542</td>\n",
       "    </tr>\n",
       "    <tr>\n",
       "      <th>7067</th>\n",
       "      <td>Order_No_1603</td>\n",
       "      <td>1928</td>\n",
       "    </tr>\n",
       "  </tbody>\n",
       "</table>\n",
       "<p>7068 rows × 2 columns</p>\n",
       "</div>"
      ],
      "text/plain": [
       "            Order_No  Time from Pickup to Arrival\n",
       "0     Order_No_19248                         1664\n",
       "1     Order_No_12736                         1690\n",
       "2       Order_No_768                         1665\n",
       "3     Order_No_15332                         1007\n",
       "4     Order_No_21373                         1062\n",
       "5     Order_No_14573                         2254\n",
       "6      Order_No_6731                         1994\n",
       "7     Order_No_18436                         1570\n",
       "8      Order_No_2288                         1462\n",
       "9      Order_No_9063                         2490\n",
       "10     Order_No_4814                          731\n",
       "11    Order_No_16747                         2978\n",
       "12     Order_No_6376                         1425\n",
       "13     Order_No_1199                         1545\n",
       "14    Order_No_17119                         1490\n",
       "15    Order_No_14832                         1341\n",
       "16    Order_No_12321                          785\n",
       "17    Order_No_24820                         1796\n",
       "18     Order_No_6065                         1384\n",
       "19    Order_No_13176                          445\n",
       "20    Order_No_23557                          947\n",
       "21    Order_No_20488                         1809\n",
       "22    Order_No_24214                         1477\n",
       "23    Order_No_21206                          536\n",
       "24     Order_No_1930                          425\n",
       "25    Order_No_28180                         2897\n",
       "26    Order_No_13329                          500\n",
       "27    Order_No_19004                          925\n",
       "28    Order_No_27510                         2729\n",
       "29    Order_No_25394                         1499\n",
       "...              ...                          ...\n",
       "7038  Order_No_10317                         1389\n",
       "7039  Order_No_11143                         1431\n",
       "7040   Order_No_8996                         2364\n",
       "7041  Order_No_14381                          569\n",
       "7042  Order_No_22839                          842\n",
       "7043    Order_No_463                          448\n",
       "7044   Order_No_3700                         1423\n",
       "7045  Order_No_23416                         1516\n",
       "7046  Order_No_16891                          474\n",
       "7047  Order_No_17710                         1883\n",
       "7048    Order_No_233                         1507\n",
       "7049  Order_No_15773                          571\n",
       "7050  Order_No_15488                          994\n",
       "7051  Order_No_16865                         1015\n",
       "7052   Order_No_1301                          391\n",
       "7053  Order_No_18519                         1225\n",
       "7054  Order_No_14258                          818\n",
       "7055   Order_No_8374                         1553\n",
       "7056  Order_No_25128                         3085\n",
       "7057  Order_No_11937                         2938\n",
       "7058  Order_No_25241                         1820\n",
       "7059   Order_No_5287                         1180\n",
       "7060   Order_No_7712                         2548\n",
       "7061    Order_No_294                         1175\n",
       "7062  Order_No_16972                         1710\n",
       "7063   Order_No_3612                         1610\n",
       "7064   Order_No_7657                         2949\n",
       "7065   Order_No_1969                         1378\n",
       "7066  Order_No_10591                         2542\n",
       "7067   Order_No_1603                         1928\n",
       "\n",
       "[7068 rows x 2 columns]"
      ]
     },
     "execution_count": 476,
     "metadata": {},
     "output_type": "execute_result"
    }
   ],
   "source": [
    "test_results"
   ]
  },
  {
   "cell_type": "code",
   "execution_count": 475,
   "metadata": {},
   "outputs": [
    {
     "data": {
      "text/html": [
       "<div>\n",
       "<style scoped>\n",
       "    .dataframe tbody tr th:only-of-type {\n",
       "        vertical-align: middle;\n",
       "    }\n",
       "\n",
       "    .dataframe tbody tr th {\n",
       "        vertical-align: top;\n",
       "    }\n",
       "\n",
       "    .dataframe thead th {\n",
       "        text-align: right;\n",
       "    }\n",
       "</style>\n",
       "<table border=\"1\" class=\"dataframe\">\n",
       "  <thead>\n",
       "    <tr style=\"text-align: right;\">\n",
       "      <th></th>\n",
       "      <th>Order_No</th>\n",
       "      <th>Time from Pickup to Arrival</th>\n",
       "    </tr>\n",
       "  </thead>\n",
       "  <tbody>\n",
       "    <tr>\n",
       "      <th>2477</th>\n",
       "      <td>Order_No_6143</td>\n",
       "      <td>10</td>\n",
       "    </tr>\n",
       "    <tr>\n",
       "      <th>2480</th>\n",
       "      <td>Order_No_1734</td>\n",
       "      <td>6</td>\n",
       "    </tr>\n",
       "    <tr>\n",
       "      <th>2584</th>\n",
       "      <td>Order_No_1824</td>\n",
       "      <td>4</td>\n",
       "    </tr>\n",
       "  </tbody>\n",
       "</table>\n",
       "</div>"
      ],
      "text/plain": [
       "           Order_No  Time from Pickup to Arrival\n",
       "2477  Order_No_6143                           10\n",
       "2480  Order_No_1734                            6\n",
       "2584  Order_No_1824                            4"
      ]
     },
     "execution_count": 475,
     "metadata": {},
     "output_type": "execute_result"
    }
   ],
   "source": [
    "test_results[test_results['Time from Pickup to Arrival'] <= 10]"
   ]
  },
  {
   "cell_type": "code",
   "execution_count": null,
   "metadata": {},
   "outputs": [],
   "source": [
    "#analyzing negative time prediction"
   ]
  },
  {
   "cell_type": "markdown",
   "metadata": {},
   "source": [
    "# Linear Regression  & Neural Net Approach"
   ]
  },
  {
   "cell_type": "code",
   "execution_count": null,
   "metadata": {},
   "outputs": [],
   "source": []
  }
 ],
 "metadata": {
  "kernelspec": {
   "display_name": "Python 3",
   "language": "python",
   "name": "python3"
  },
  "language_info": {
   "codemirror_mode": {
    "name": "ipython",
    "version": 3
   },
   "file_extension": ".py",
   "mimetype": "text/x-python",
   "name": "python",
   "nbconvert_exporter": "python",
   "pygments_lexer": "ipython3",
   "version": "3.6.11"
  }
 },
 "nbformat": 4,
 "nbformat_minor": 2
}
